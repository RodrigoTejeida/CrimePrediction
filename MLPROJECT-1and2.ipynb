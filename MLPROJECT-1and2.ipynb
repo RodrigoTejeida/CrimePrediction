{
 "cells": [
  {
   "cell_type": "markdown",
   "metadata": {},
   "source": [
    "# ML PROJECT"
   ]
  },
  {
   "cell_type": "code",
   "execution_count": 26,
   "metadata": {
    "collapsed": true
   },
   "outputs": [],
   "source": [
    "# Library imports and data upload "
   ]
  },
  {
   "cell_type": "code",
   "execution_count": 3,
   "metadata": {
    "collapsed": false
   },
   "outputs": [],
   "source": [
    "import pandas as pd\n",
    "import numpy as np\n",
    "from sklearn import tree\n",
    "from sklearn import naive_bayes\n",
    "from sklearn import svm\n",
    "from sklearn import linear_model\n",
    "from sklearn import metrics\n",
    "from sklearn.metrics import confusion_matrix\n",
    "from sklearn.pipeline import Pipeline\n",
    "from sklearn.preprocessing import PolynomialFeatures\n",
    "from sklearn.model_selection import cross_val_score\n",
    "from sklearn.model_selection import train_test_split\n",
    "#from treeinterpreter import treeinterpreter as ti\n",
    "from sklearn.tree import DecisionTreeRegressor\n",
    "from sklearn.ensemble import RandomForestClassifier\n",
    "import matplotlib.pyplot as plt\n",
    "\n",
    "df=pd.read_csv('communities-crime-clean.csv')"
   ]
  },
  {
   "cell_type": "code",
   "execution_count": 28,
   "metadata": {
    "collapsed": true
   },
   "outputs": [],
   "source": [
    "#1. Decision Trees"
   ]
  },
  {
   "cell_type": "code",
   "execution_count": 29,
   "metadata": {
    "collapsed": true
   },
   "outputs": [],
   "source": [
    "##1.a. Create high-crime field"
   ]
  },
  {
   "cell_type": "code",
   "execution_count": 4,
   "metadata": {
    "collapsed": false
   },
   "outputs": [],
   "source": [
    "df['highCrime'] = (df['ViolentCrimesPerPop']>0.1).astype(int)  #.astype(int) to convert boolean into 0 and 1\n",
    "pos = df.highCrime.mean()  #Percentage positive\n",
    "neg = 1-df.highCrime.mean() #Percentage negative"
   ]
  },
  {
   "cell_type": "code",
   "execution_count": 31,
   "metadata": {
    "collapsed": true
   },
   "outputs": [],
   "source": [
    "#What are the percentage of positive and negative instances in the dataset?"
   ]
  },
  {
   "cell_type": "code",
   "execution_count": 5,
   "metadata": {
    "collapsed": false
   },
   "outputs": [
    {
     "name": "stdout",
     "output_type": "stream",
     "text": [
      "Posistive=  0.6271951831409934 \n",
      " Negative=  0.37280481685900657\n"
     ]
    }
   ],
   "source": [
    "print('Posistive= ',pos, '\\n', \"Negative= \", neg)"
   ]
  },
  {
   "cell_type": "code",
   "execution_count": 33,
   "metadata": {
    "collapsed": true
   },
   "outputs": [],
   "source": [
    "##1.b. Use DecisionTreeClassifier to learn a decision tree to predict highCrime"
   ]
  },
  {
   "cell_type": "code",
   "execution_count": 6,
   "metadata": {
    "collapsed": false
   },
   "outputs": [],
   "source": [
    "inputX = df.drop(['highCrime','ViolentCrimesPerPop', 'communityname','fold'] ,axis=1,inplace=False)  #Input variables\n",
    "outcomeY = df['highCrime']  #Outcome variable\n",
    "\n",
    "treeModel = tree.DecisionTreeClassifier()  #Model to fit\n",
    "treeFitted = treeModel.fit(inputX, outcomeY)#Estimated classifier\n",
    "treePredicted = treeFitted.predict(inputX)  #Predicted values over the entire input dataset"
   ]
  },
  {
   "cell_type": "code",
   "execution_count": 35,
   "metadata": {
    "collapsed": true
   },
   "outputs": [],
   "source": [
    "###1.b.i. What are the training accuracy, precision, and recall"
   ]
  },
  {
   "cell_type": "code",
   "execution_count": 7,
   "metadata": {
    "collapsed": true
   },
   "outputs": [],
   "source": [
    "treeAcc = metrics.accuracy_score(outcomeY,treePredicted)  #Accuracy\n",
    "treePre = metrics.precision_score(outcomeY, treePredicted)  #Precision\n",
    "treeRec = metrics.recall_score(outcomeY, treePredicted)  #Recall"
   ]
  },
  {
   "cell_type": "code",
   "execution_count": 8,
   "metadata": {
    "collapsed": false
   },
   "outputs": [
    {
     "name": "stdout",
     "output_type": "stream",
     "text": [
      " Accuracy: 1.0 \n",
      " Precision: 1.0 \n",
      " Recall: 1.0\n"
     ]
    }
   ],
   "source": [
    "print(\" Accuracy:\",treeAcc, '\\n',\"Precision:\",treePre,'\\n',\"Recall:\",treeRec)"
   ]
  },
  {
   "cell_type": "code",
   "execution_count": 38,
   "metadata": {
    "collapsed": true
   },
   "outputs": [],
   "source": [
    "###1.b.ii. What are the main features used for classification"
   ]
  },
  {
   "cell_type": "code",
   "execution_count": 39,
   "metadata": {
    "collapsed": true
   },
   "outputs": [],
   "source": [
    "##################### NEEDS REVIEWING #####################"
   ]
  },
  {
   "cell_type": "code",
   "execution_count": 13,
   "metadata": {
    "collapsed": false
   },
   "outputs": [],
   "source": [
    "#import pydotplus\n",
    "#dot_data = tree.export_graphviz(treeModel, out_file=None)\n",
    "#graph = pydotplus.graph_from_dot_data(dot_data)\n",
    "#graph.write_pdf(\"tree.pdf\")"
   ]
  },
  {
   "cell_type": "code",
   "execution_count": 326,
   "metadata": {
    "collapsed": false
   },
   "outputs": [
    {
     "name": "stdout",
     "output_type": "stream",
     "text": [
      "                     treef\n",
      "PctKids2Par       0.358652\n",
      "racePctWhite      0.092442\n",
      "racePctHisp       0.047067\n",
      "PctEmplManu       0.022134\n",
      "HousVacant        0.017964\n",
      "PctLess9thGrade   0.016859\n",
      "PctEmploy         0.014602\n",
      "racepctblack      0.012916\n",
      "PctOccupMgmtProf  0.012818\n",
      "MedRent           0.011718\n"
     ]
    }
   ],
   "source": [
    "names = list(inputX.columns)\n",
    "Feat = pd.DataFrame(treeFitted.feature_importances_, index = names, columns=['treef'])\n",
    "print((Feat.sort_values(['treef'],axis=0, ascending = False))[0:10])"
   ]
  },
  {
   "cell_type": "code",
   "execution_count": 43,
   "metadata": {
    "collapsed": true
   },
   "outputs": [],
   "source": [
    "##################### NEEDS REVIEWING #####################"
   ]
  },
  {
   "cell_type": "code",
   "execution_count": 44,
   "metadata": {
    "collapsed": true
   },
   "outputs": [],
   "source": [
    "##1.c.i. Now apply cross-validation to do 10-fold cross-validation"
   ]
  },
  {
   "cell_type": "code",
   "execution_count": 16,
   "metadata": {
    "collapsed": true
   },
   "outputs": [],
   "source": [
    "###Model evaluation with k-fold cross validation (k=10)\n",
    "treeAcc_cv = cross_val_score(treeModel, inputX, outcomeY, cv=10, scoring='accuracy')\n",
    "treePre_cv = cross_val_score(treeModel, inputX, outcomeY, cv=10, scoring='precision')\n",
    "treeRec_cv = cross_val_score(treeModel, inputX, outcomeY, cv=10, scoring='recall')"
   ]
  },
  {
   "cell_type": "code",
   "execution_count": 46,
   "metadata": {
    "collapsed": true
   },
   "outputs": [],
   "source": [
    "##1.c.i. i.\tWhat is the 10-fold cross-validation accuracy, precision, and recall for this method?"
   ]
  },
  {
   "cell_type": "code",
   "execution_count": 19,
   "metadata": {
    "collapsed": false
   },
   "outputs": [
    {
     "name": "stdout",
     "output_type": "stream",
     "text": [
      " Accuracy: 0.712974874372 \n",
      " Precision: 0.786051396449 \n",
      " Recall: 0.7712\n"
     ]
    }
   ],
   "source": [
    "print(\" Accuracy:\",treeAcc_cv.mean(), '\\n', \"Precision:\",treePre_cv.mean(),'\\n',\"Recall:\",treeRec_cv.mean())"
   ]
  },
  {
   "cell_type": "code",
   "execution_count": 48,
   "metadata": {
    "collapsed": true
   },
   "outputs": [],
   "source": [
    "##1.c.ii.\tWhy are they different from the results in the previous test?"
   ]
  },
  {
   "cell_type": "raw",
   "metadata": {},
   "source": [
    "It is very likely that this is due to overfitting carried out for the first test. The second one, on the other hand, applies cross validation which is less sensitive to overestimating accuracy, precision and recall do to overfitting."
   ]
  },
  {
   "cell_type": "code",
   "execution_count": 49,
   "metadata": {
    "collapsed": true
   },
   "outputs": [],
   "source": [
    "#2.\tLinear Classification"
   ]
  },
  {
   "cell_type": "code",
   "execution_count": 50,
   "metadata": {
    "collapsed": true
   },
   "outputs": [],
   "source": [
    "##2.a. Use GaussianNB to learn a Naive Bayes classifier to predict highCrime"
   ]
  },
  {
   "cell_type": "code",
   "execution_count": 20,
   "metadata": {
    "collapsed": false
   },
   "outputs": [],
   "source": [
    "nbModel = naive_bayes.GaussianNB ()  #Select GaussianNB as model\n",
    "nbFit = nbModel.fit(inputX, outcomeY)  #Fit the GaussianNB with data\n",
    "nbPredict = nbFit.predict(inputX)  #Prediction over the input model matrix\n",
    "\n",
    "###Model evaluation with a single prediction over entire input\n",
    "nbAcc = metrics.accuracy_score(outcomeY,nbPredict)  #Accuracy\n",
    "nbPre = metrics.precision_score(outcomeY, nbPredict)  #Precision\n",
    "nbRec = metrics.recall_score(outcomeY, nbPredict)  #Recall\n",
    "\n",
    "nbAcc_cv = cross_val_score(nbModel, inputX, outcomeY, cv=10, scoring='accuracy')  #Accuracy over a 10-fold validation set\n",
    "nbPre_cv = cross_val_score(nbModel, inputX, outcomeY, cv=10, scoring='precision')  #Precision over a 10-fold validation set\n",
    "nbRec_cv = cross_val_score(nbModel, inputX, outcomeY, cv=10, scoring='recall')  #Recall over a 10-fold validation set"
   ]
  },
  {
   "cell_type": "code",
   "execution_count": 52,
   "metadata": {
    "collapsed": true
   },
   "outputs": [],
   "source": [
    "###2.a.i What is the 10-fold cross-validation accuracy, precision, and recall for this method?"
   ]
  },
  {
   "cell_type": "code",
   "execution_count": 21,
   "metadata": {
    "collapsed": false
   },
   "outputs": [
    {
     "name": "stdout",
     "output_type": "stream",
     "text": [
      " Accuracy: 0.765108040201 \n",
      " Precision: 0.912419309104 \n",
      " Recall: 0.6976\n"
     ]
    }
   ],
   "source": [
    "print(\" Accuracy:\",nbAcc_cv.mean(), '\\n',\"Precision:\",nbPre_cv.mean(),'\\n',\"Recall:\",nbRec_cv.mean())"
   ]
  },
  {
   "cell_type": "code",
   "execution_count": 54,
   "metadata": {
    "collapsed": true
   },
   "outputs": [],
   "source": [
    "###2.a.ii."
   ]
  },
  {
   "cell_type": "code",
   "execution_count": 22,
   "metadata": {
    "collapsed": true
   },
   "outputs": [],
   "source": [
    "xMeans0 = inputX.groupby(nbPredict).mean().loc[0,:]  #Group mean for negative outcome\n",
    "xMeans1 = inputX.groupby(nbPredict).mean().loc[1,:]  #Group mean for positive outcome\n",
    "\n",
    "xStd0 = inputX.groupby(nbPredict).std().loc[0,:]  #Group standard deviation for negative outcome\n",
    "xStd1 = inputX.groupby(nbPredict).std().loc[1,:]  #Group standard deviation for positive outcome\n",
    "\n",
    "normAbsDiff = (xMeans1 - xMeans0).abs() / xStd0+xStd1  #Normalized absolute difference of groupwise (on outcome) means of all variables\n",
    "normAbsDiffSorted = normAbsDiff.sort_values(ascending=False)  #Sort in descending order"
   ]
  },
  {
   "cell_type": "code",
   "execution_count": 56,
   "metadata": {
    "collapsed": true
   },
   "outputs": [],
   "source": [
    "###2.a.ii. What are the 10 most predictive features?"
   ]
  },
  {
   "cell_type": "code",
   "execution_count": 327,
   "metadata": {
    "collapsed": false
   },
   "outputs": [
    {
     "name": "stdout",
     "output_type": "stream",
     "text": [
      "state               17.812025\n",
      "NumIlleg             9.819252\n",
      "NumStreet            4.498383\n",
      "NumUnderPov          4.192369\n",
      "PctIlleg             3.993768\n",
      "racepctblack         3.988520\n",
      "racePctWhite         3.941943\n",
      "HousVacant           3.399270\n",
      "NumImmig             3.336511\n",
      "PctPersDenseHous     3.120286\n",
      "dtype: float64\n"
     ]
    }
   ],
   "source": [
    "print(normAbsDiffSorted[0:10])  #Print 10 variables with the largest values"
   ]
  },
  {
   "cell_type": "code",
   "execution_count": 58,
   "metadata": {
    "collapsed": true
   },
   "outputs": [],
   "source": [
    "### Why do these make sense (or not)? "
   ]
  },
  {
   "cell_type": "raw",
   "metadata": {},
   "source": []
  },
  {
   "cell_type": "code",
   "execution_count": 59,
   "metadata": {
    "collapsed": true
   },
   "outputs": [],
   "source": [
    "###2.a.iii How do these results compare with your results from decision trees, above?"
   ]
  },
  {
   "cell_type": "raw",
   "metadata": {},
   "source": []
  },
  {
   "cell_type": "code",
   "execution_count": 60,
   "metadata": {
    "collapsed": true
   },
   "outputs": [],
   "source": [
    "##2.b.\tUse LinearSVC to learn a linear Support Vector Machine model"
   ]
  },
  {
   "cell_type": "code",
   "execution_count": 25,
   "metadata": {
    "collapsed": true
   },
   "outputs": [],
   "source": [
    "svmModel = svm.LinearSVC() #Select LinearSVC as model\n",
    "svmFit = svmModel.fit(inputX, outcomeY)  #Fit the LinearSVC with data\n",
    "svmPredict = svmFit.predict(inputX)  #Prediction over the input model matrix\n",
    "\n",
    "###Model evaluation with a single prediction over entire input\n",
    "svmAcc = metrics.accuracy_score(outcomeY,svmPredict)  #Accuracy\n",
    "svmPre = metrics.precision_score(outcomeY, svmPredict)  #Precision\n",
    "svmRec = metrics.recall_score(outcomeY, svmPredict)  #Recall"
   ]
  },
  {
   "cell_type": "code",
   "execution_count": 26,
   "metadata": {
    "collapsed": true
   },
   "outputs": [],
   "source": [
    "svmAcc_cv = cross_val_score(svmModel, inputX, outcomeY, cv=10, scoring='accuracy')  #Accuracy over a 10-fold validation set\n",
    "svmPre_cv = cross_val_score(svmModel, inputX, outcomeY, cv=10, scoring='precision')  #Precision over a 10-fold validation set\n",
    "svmRec_cv = cross_val_score(svmModel, inputX, outcomeY, cv=10, scoring='recall')  #Recall over a 10-fold validation set"
   ]
  },
  {
   "cell_type": "code",
   "execution_count": 63,
   "metadata": {
    "collapsed": true
   },
   "outputs": [],
   "source": [
    "###2.b.i Model evaluation with k-fold cross validation (where k=10)"
   ]
  },
  {
   "cell_type": "code",
   "execution_count": 27,
   "metadata": {
    "collapsed": false
   },
   "outputs": [
    {
     "name": "stdout",
     "output_type": "stream",
     "text": [
      " Accuracy: 0.757185929648 \n",
      " Precision: 0.820500400199 \n",
      " Recall: 0.8808\n"
     ]
    }
   ],
   "source": [
    "print(\" Accuracy:\",svmAcc_cv.mean(), '\\n',\"Precision:\",svmPre_cv.mean(),'\\n',\"Recall:\",svmRec_cv.mean())"
   ]
  },
  {
   "cell_type": "code",
   "execution_count": 65,
   "metadata": {
    "collapsed": true
   },
   "outputs": [],
   "source": [
    "###2.b.ii.\tWhat are the 10 most predictive features?"
   ]
  },
  {
   "cell_type": "code",
   "execution_count": 28,
   "metadata": {
    "collapsed": true
   },
   "outputs": [],
   "source": [
    "xMeans0 = inputX.groupby(svmPredict).mean().loc[0,:]  #Group mean for negative outcome\n",
    "xMeans1 = inputX.groupby(svmPredict).mean().loc[1,:]  #Group mean for positive outcome\n",
    "\n",
    "xStd0 = inputX.groupby(svmPredict).std().loc[0,:]  #Group standard deviation for negative outcome\n",
    "xStd1 = inputX.groupby(svmPredict).std().loc[1,:]  #Group standard deviation for positive outcome\n",
    "\n",
    "normAbsDiff = (xMeans1 - xMeans0).abs() / xStd0+xStd1  #Normalized absolute difference of groupwise (on outcome) means of all variables\n",
    "normAbsDiffSorted = normAbsDiff.sort_values(ascending=False)"
   ]
  },
  {
   "cell_type": "code",
   "execution_count": 29,
   "metadata": {
    "collapsed": false
   },
   "outputs": [
    {
     "name": "stdout",
     "output_type": "stream",
     "text": [
      "state           17.812025\n",
      "NumIlleg         9.819252\n",
      "NumStreet        4.498383\n",
      "NumUnderPov      4.192369\n",
      "PctIlleg         3.993768\n",
      "racepctblack     3.988520\n",
      "racePctWhite     3.941943\n",
      "HousVacant       3.399270\n",
      "NumImmig         3.336511\n",
      "dtype: float64\n"
     ]
    }
   ],
   "source": [
    "print(normAbsDiffSorted[0:9])  #Print 10 variables with the largest values"
   ]
  },
  {
   "cell_type": "code",
   "execution_count": 68,
   "metadata": {
    "collapsed": true
   },
   "outputs": [],
   "source": [
    "### Why do these make sense (or not)?"
   ]
  },
  {
   "cell_type": "raw",
   "metadata": {},
   "source": []
  },
  {
   "cell_type": "code",
   "execution_count": 69,
   "metadata": {
    "collapsed": true
   },
   "outputs": [],
   "source": [
    "###2.b.iii.\tHow do these results compare with your results from decision trees, above?"
   ]
  },
  {
   "cell_type": "raw",
   "metadata": {},
   "source": []
  },
  {
   "cell_type": "code",
   "execution_count": null,
   "metadata": {
    "collapsed": true
   },
   "outputs": [],
   "source": [
    "# Cleaning the 'full' data set"
   ]
  },
  {
   "cell_type": "code",
   "execution_count": 270,
   "metadata": {
    "collapsed": false
   },
   "outputs": [],
   "source": [
    "from sklearn.preprocessing import Imputer\n",
    "#Load the full (dirty) dataset\n",
    "df_full=pd.read_csv('communities-crime-full.csv')\n",
    "\n",
    "##4.a. Create highCrime outcome variable\n",
    "df_full['highCrime'] = (df_full['ViolentCrimesPerPop']>0.1).astype(int)  #.astype(int) to convert boolean into 0 and 1\n",
    "\n",
    "#Drop variables that will not be used for classification\n",
    "df_full_drop = df_full.drop(['communityname','fold','ViolentCrimesPerPop'],axis=1,inplace=False)  #Input variables\n",
    "\n",
    "#Replace '?' with np.nan\n",
    "df_full_drop.replace(to_replace='?', value=np.nan, inplace=True)\n",
    "varlist = list(df_full_drop)\n",
    "\n",
    "#Instantiate imputer for missing values using column median\n",
    "impMedian = Imputer(missing_values='NaN', strategy='median', axis=0)\n",
    "\n",
    "#Impute missing values\n",
    "df_full_drop = pd.DataFrame(impMedian.fit_transform(df_full_drop))  #Replace with column median\n",
    "df_full_drop.columns = varlist\n",
    "\n",
    "#Define outcome vector and input matrix\n",
    "inputX_full = df_full_drop.drop(['highCrime'],axis=1,inplace=False)  #Input variables\n",
    "outcomeY_full = df_full_drop['highCrime']  #Outcome variable"
   ]
  },
  {
   "cell_type": "code",
   "execution_count": 71,
   "metadata": {
    "collapsed": true
   },
   "outputs": [],
   "source": [
    "#5.i. Experiment with two learning methods other than those described above"
   ]
  },
  {
   "cell_type": "code",
   "execution_count": null,
   "metadata": {
    "collapsed": true
   },
   "outputs": [],
   "source": [
    "# Method 1: Non-linear kernel for SVM classification"
   ]
  },
  {
   "cell_type": "code",
   "execution_count": 31,
   "metadata": {
    "collapsed": true
   },
   "outputs": [],
   "source": [
    "svmRBFModel = svm.SVC(kernel='rbf')  #Select non-linear SVC with RBF kernel\n",
    "svmRBFFit = svmRBFModel.fit(inputX, outcomeY)  #Fit the model with data\n",
    "svmRBFPredict = svmRBFFit.predict(inputX)  #Prediction over the input model matrix"
   ]
  },
  {
   "cell_type": "code",
   "execution_count": null,
   "metadata": {
    "collapsed": true
   },
   "outputs": [],
   "source": [
    "###Clean Data: Model evaluation with k-fold cross validation (where k=10)"
   ]
  },
  {
   "cell_type": "code",
   "execution_count": null,
   "metadata": {
    "collapsed": true
   },
   "outputs": [],
   "source": [
    "#MSE over a 10-fold validation set"
   ]
  },
  {
   "cell_type": "code",
   "execution_count": 33,
   "metadata": {
    "collapsed": true
   },
   "outputs": [],
   "source": [
    "svmRBFModelModelMSE_cv = cross_val_score(svmRBFModel, inputX, outcomeY, cv=10, scoring='neg_mean_squared_error')  "
   ]
  },
  {
   "cell_type": "code",
   "execution_count": 34,
   "metadata": {
    "collapsed": false
   },
   "outputs": [
    {
     "name": "stdout",
     "output_type": "stream",
     "text": [
      " MSE: 0.416025125628\n"
     ]
    }
   ],
   "source": [
    "print(\" MSE:\",abs(svmRBFModelModelMSE_cv).mean())"
   ]
  },
  {
   "cell_type": "code",
   "execution_count": null,
   "metadata": {
    "collapsed": true
   },
   "outputs": [],
   "source": [
    "#10-fold cross-validation accuracy, precision, and recall"
   ]
  },
  {
   "cell_type": "code",
   "execution_count": 35,
   "metadata": {
    "collapsed": true
   },
   "outputs": [],
   "source": [
    "svmRBFAcc_cv = cross_val_score(svmRBFModel, inputX, outcomeY, cv=10, scoring='accuracy')  #Accuracy over a 10-fold validation set\n",
    "svmRBFPre_cv = cross_val_score(svmRBFModel, inputX, outcomeY, cv=10, scoring='precision')  #Precision over a 10-fold validation set\n",
    "svmRBFRec_cv = cross_val_score(svmRBFModel, inputX, outcomeY, cv=10, scoring='recall')  #Recall over a 10-fold validation set"
   ]
  },
  {
   "cell_type": "code",
   "execution_count": 36,
   "metadata": {
    "collapsed": false
   },
   "outputs": [
    {
     "name": "stdout",
     "output_type": "stream",
     "text": [
      " Accuracy: 0.583974874372 \n",
      " Precision: 0.699992433194 \n",
      " Recall: 0.6504\n"
     ]
    }
   ],
   "source": [
    "print(\" Accuracy:\",svmRBFAcc_cv.mean(), '\\n',\"Precision:\",svmRBFPre_cv.mean(),'\\n',\"Recall:\",svmRBFRec_cv.mean())"
   ]
  },
  {
   "cell_type": "code",
   "execution_count": null,
   "metadata": {
    "collapsed": true
   },
   "outputs": [],
   "source": [
    "#>>> EDIT the following once 'full' dataset is added (notice 'inputX_full' and 'outcomeY_full' arguments below)."
   ]
  },
  {
   "cell_type": "code",
   "execution_count": 37,
   "metadata": {
    "collapsed": false
   },
   "outputs": [],
   "source": [
    "svmRBFModel_full = svm.SVC(kernel='rbf')  #Select non-linear SVC with RBF kernel\n",
    "svmRBFFit_full = svmRBFModel_full.fit(inputX_full, outcomeY_full)  #Fit the model with data\n",
    "svmRBFPredict_full = svmRBFFit_full.predict(inputX_full)  #Prediction over the input model matrix"
   ]
  },
  {
   "cell_type": "code",
   "execution_count": null,
   "metadata": {
    "collapsed": true
   },
   "outputs": [],
   "source": [
    "#MSE over a 10-fold validation set"
   ]
  },
  {
   "cell_type": "code",
   "execution_count": 38,
   "metadata": {
    "collapsed": true
   },
   "outputs": [],
   "source": [
    "svmRBFModelModelMSE_cv_full = cross_val_score(svmRBFModel_full, inputX_full, outcomeY_full, cv=10, scoring='neg_mean_squared_error')  "
   ]
  },
  {
   "cell_type": "code",
   "execution_count": 39,
   "metadata": {
    "collapsed": false
   },
   "outputs": [
    {
     "name": "stdout",
     "output_type": "stream",
     "text": [
      "MSE: 0.288865671642\n"
     ]
    }
   ],
   "source": [
    "print(\"MSE:\",abs(svmRBFModelModelMSE_cv_full).mean())"
   ]
  },
  {
   "cell_type": "code",
   "execution_count": null,
   "metadata": {
    "collapsed": true
   },
   "outputs": [],
   "source": [
    "###Full Data: Model evaluation with k-fold cross validation (where k=10)"
   ]
  },
  {
   "cell_type": "code",
   "execution_count": 40,
   "metadata": {
    "collapsed": true
   },
   "outputs": [],
   "source": [
    "svmRBFAcc_cv_full = cross_val_score(svmRBFModel_full, inputX_full, outcomeY_full, cv=10, scoring='accuracy')  #Accuracy over a 10-fold validation set\n",
    "svmRBFPre_cv_full = cross_val_score(svmRBFModel_full, inputX_full, outcomeY_full, cv=10, scoring='precision')  #Precision over a 10-fold validation set\n",
    "svmRBFRec_cv_full = cross_val_score(svmRBFModel_full, inputX_full, outcomeY_full, cv=10, scoring='recall')  #Recall over a 10-fold validation set"
   ]
  },
  {
   "cell_type": "code",
   "execution_count": 42,
   "metadata": {
    "collapsed": false
   },
   "outputs": [
    {
     "name": "stdout",
     "output_type": "stream",
     "text": [
      " Accuracy: 0.711134328358 \n",
      " Precision: 0.798245156148 \n",
      " Recall: 0.722596825397\n"
     ]
    }
   ],
   "source": [
    "print(\" Accuracy:\",svmRBFAcc_cv_full.mean(), '\\n',\"Precision:\",svmRBFPre_cv_full.mean(),'\\n',\"Recall:\",svmRBFRec_cv_full.mean())"
   ]
  },
  {
   "cell_type": "code",
   "execution_count": 72,
   "metadata": {
    "collapsed": true
   },
   "outputs": [],
   "source": [
    "## Method 2 Random Forrest"
   ]
  },
  {
   "cell_type": "code",
   "execution_count": 73,
   "metadata": {
    "collapsed": true
   },
   "outputs": [],
   "source": [
    "###Clean Data: Model evaluation with k-fold cross validation (where k=10)"
   ]
  },
  {
   "cell_type": "code",
   "execution_count": 43,
   "metadata": {
    "collapsed": false
   },
   "outputs": [],
   "source": [
    "RFModel = RandomForestClassifier()\n",
    "RFFIt = RFModel.fit(inputX,outcomeY)\n",
    "RFPredict = RFModel.predict(inputX)"
   ]
  },
  {
   "cell_type": "code",
   "execution_count": null,
   "metadata": {
    "collapsed": true
   },
   "outputs": [],
   "source": [
    "#MSE over a 10-fold validation set"
   ]
  },
  {
   "cell_type": "code",
   "execution_count": 44,
   "metadata": {
    "collapsed": true
   },
   "outputs": [],
   "source": [
    "RFModelMSE_cv = cross_val_score(RFModel, inputX, outcomeY, cv=10, scoring='neg_mean_squared_error')  "
   ]
  },
  {
   "cell_type": "code",
   "execution_count": 45,
   "metadata": {
    "collapsed": false
   },
   "outputs": [
    {
     "name": "stdout",
     "output_type": "stream",
     "text": [
      "MSE: 0.211801507538\n"
     ]
    }
   ],
   "source": [
    "print(\"MSE:\",abs(RFModelMSE_cv).mean())"
   ]
  },
  {
   "cell_type": "code",
   "execution_count": null,
   "metadata": {
    "collapsed": true
   },
   "outputs": [],
   "source": [
    "### 10-fold cross-validation accuracy, precision, and recall for Random Forrest with 'clean' data set"
   ]
  },
  {
   "cell_type": "code",
   "execution_count": 46,
   "metadata": {
    "collapsed": true
   },
   "outputs": [],
   "source": [
    "RFModelAcc_cv = cross_val_score(RFModel, inputX, outcomeY, cv=10, scoring='accuracy')  #Accuracy over a 10-fold validation set\n",
    "RFModelPre_cv = cross_val_score(RFModel, inputX, outcomeY, cv=10, scoring='precision')  #Precision over a 10-fold validation set\n",
    "RFModelRec_cv = cross_val_score(RFModel, inputX, outcomeY, cv=10, scoring='recall')  #Recall over a 10-fold validation set"
   ]
  },
  {
   "cell_type": "code",
   "execution_count": 47,
   "metadata": {
    "collapsed": false
   },
   "outputs": [
    {
     "name": "stdout",
     "output_type": "stream",
     "text": [
      " Accuracy: 0.781685929648 \n",
      " Precision: 0.853263040205 \n",
      " Recall: 0.8096\n"
     ]
    }
   ],
   "source": [
    "print(\" Accuracy:\",RFModelAcc_cv.mean(), '\\n',\"Precision:\",RFModelPre_cv.mean(),'\\n',\"Recall:\",RFModelRec_cv.mean())"
   ]
  },
  {
   "cell_type": "code",
   "execution_count": 77,
   "metadata": {
    "collapsed": true
   },
   "outputs": [],
   "source": [
    "#>>> EDIT the following once 'full' dataset is added (notice 'inputX_full' and 'outcomeY_full' arguments below)."
   ]
  },
  {
   "cell_type": "code",
   "execution_count": 48,
   "metadata": {
    "collapsed": false
   },
   "outputs": [],
   "source": [
    "RFModel_full = RandomForestClassifier()\n",
    "RFFIt_full = RFModel_full.fit(inputX_full,outcomeY_full)\n",
    "RFPredict_full = RFModel_full.predict(inputX_full)"
   ]
  },
  {
   "cell_type": "code",
   "execution_count": 49,
   "metadata": {
    "collapsed": true
   },
   "outputs": [],
   "source": [
    "RFModelMSE_cv_full = cross_val_score(RFModel_full, inputX_full, outcomeY_full, cv=10, scoring='neg_mean_squared_error')  \n",
    "#MSE over a 10-fold validation set"
   ]
  },
  {
   "cell_type": "code",
   "execution_count": 51,
   "metadata": {
    "collapsed": false
   },
   "outputs": [
    {
     "name": "stdout",
     "output_type": "stream",
     "text": [
      "MSE: 0.175053513838\n"
     ]
    }
   ],
   "source": [
    "print(\"MSE:\",abs(RFModelMSE_cv_full).mean())"
   ]
  },
  {
   "cell_type": "code",
   "execution_count": 81,
   "metadata": {
    "collapsed": true
   },
   "outputs": [],
   "source": [
    "### 10-fold cross-validation accuracy, precision, and recall for Random Forrest with 'full' data set"
   ]
  },
  {
   "cell_type": "code",
   "execution_count": 52,
   "metadata": {
    "collapsed": false
   },
   "outputs": [],
   "source": [
    "RFModelAcc_cv_full = cross_val_score(RFModel_full, inputX_full, outcomeY_full, cv=10, scoring='accuracy')  #Accuracy over a 10-fold validation set\n",
    "RFModelPre_cv_full = cross_val_score(RFModel_full, inputX_full, outcomeY_full, cv=10, scoring='precision')  #Precision over a 10-fold validation set\n",
    "RFModelRec_cv_full = cross_val_score(RFModel_full, inputX_full, outcomeY_full, cv=10, scoring='recall')  #Recall over a 10-fold validation set"
   ]
  },
  {
   "cell_type": "code",
   "execution_count": 53,
   "metadata": {
    "collapsed": false
   },
   "outputs": [
    {
     "name": "stdout",
     "output_type": "stream",
     "text": [
      " Accuracy: 0.816423798095 \n",
      " Precision: 0.867713446798 \n",
      " Recall: 0.833726984127\n"
     ]
    }
   ],
   "source": [
    "print(\" Accuracy:\",RFModelAcc_cv_full.mean(), '\\n',\"Precision:\",RFModelPre_cv_full.mean(),'\\n',\"Recall:\",RFModelRec_cv_full.mean())"
   ]
  },
  {
   "cell_type": "code",
   "execution_count": null,
   "metadata": {
    "collapsed": true
   },
   "outputs": [],
   "source": [
    "#5.ii. What method gives the best results?"
   ]
  },
  {
   "cell_type": "code",
   "execution_count": null,
   "metadata": {
    "collapsed": true
   },
   "outputs": [],
   "source": []
  },
  {
   "cell_type": "code",
   "execution_count": null,
   "metadata": {
    "collapsed": true
   },
   "outputs": [],
   "source": [
    "#5.iii. What feature(s) seem to be most consistently predictive of high crime rates? How reliable is this conclusion?"
   ]
  },
  {
   "cell_type": "code",
   "execution_count": null,
   "metadata": {
    "collapsed": true
   },
   "outputs": [],
   "source": []
  },
  {
   "cell_type": "code",
   "execution_count": null,
   "metadata": {
    "collapsed": true
   },
   "outputs": [],
   "source": [
    "#6.c"
   ]
  },
  {
   "cell_type": "code",
   "execution_count": 276,
   "metadata": {
    "collapsed": false
   },
   "outputs": [],
   "source": [
    "df_new=pd.read_csv('industry.csv')\n",
    "#df_new['communityname']=(df_new['communityname'].str.strip()).str.lower()\n",
    "#df_full['communityname']=(df['communityname'].str.strip()).str.lower()\n",
    "\n",
    "#df_new['communityname']=(df_new['communityname'].str.lower())\n",
    "#df_full['communityname']=(df['communityname'].str.lower())\n",
    "\n",
    "#df_full=df_full.replace(to_replace=np.nan,value='?')\n",
    "df_full=df_full.replace(to_replace='?',value=np.nan)\n",
    "\n",
    "df_new_sort=df_new.sort_values(['state','communityname'])\n",
    "df_full_sort=df_full.sort_values(['state','communityname'])"
   ]
  },
  {
   "cell_type": "code",
   "execution_count": 274,
   "metadata": {
    "collapsed": false
   },
   "outputs": [
    {
     "data": {
      "text/html": [
       "<div>\n",
       "<table border=\"1\" class=\"dataframe\">\n",
       "  <thead>\n",
       "    <tr style=\"text-align: right;\">\n",
       "      <th></th>\n",
       "      <th>state</th>\n",
       "      <th>community</th>\n",
       "      <th>Agriculture</th>\n",
       "      <th>Forestryandfisheries</th>\n",
       "      <th>Mining</th>\n",
       "      <th>Construction</th>\n",
       "      <th>Manufacturing</th>\n",
       "      <th>Transportation,communications,andotherpublicutilities</th>\n",
       "      <th>Wholesaletrade</th>\n",
       "      <th>Retailtrade</th>\n",
       "      <th>Finance,insurance,andrealestate</th>\n",
       "      <th>Businessandrepairservices</th>\n",
       "      <th>Personalservices</th>\n",
       "      <th>Entertainmentandrecreationservices</th>\n",
       "      <th>Professionalandrelatedservices</th>\n",
       "      <th>Publicadministration</th>\n",
       "      <th>StatePostalAbbreviation</th>\n",
       "      <th>communityname</th>\n",
       "      <th>COMN</th>\n",
       "    </tr>\n",
       "  </thead>\n",
       "  <tbody>\n",
       "    <tr>\n",
       "      <th>0</th>\n",
       "      <td>1</td>\n",
       "      <td>820</td>\n",
       "      <td>0.003307</td>\n",
       "      <td>0.000000</td>\n",
       "      <td>0.007541</td>\n",
       "      <td>0.069454</td>\n",
       "      <td>0.126604</td>\n",
       "      <td>0.107554</td>\n",
       "      <td>0.065617</td>\n",
       "      <td>0.215372</td>\n",
       "      <td>0.084932</td>\n",
       "      <td>0.048948</td>\n",
       "      <td>0.016537</td>\n",
       "      <td>0.006879</td>\n",
       "      <td>0.219473</td>\n",
       "      <td>0.027781</td>\n",
       "      <td>AL</td>\n",
       "      <td>Alabastercity</td>\n",
       "      <td>Alabastercity</td>\n",
       "    </tr>\n",
       "    <tr>\n",
       "      <th>1</th>\n",
       "      <td>1</td>\n",
       "      <td>988</td>\n",
       "      <td>0.014788</td>\n",
       "      <td>0.000778</td>\n",
       "      <td>0.002024</td>\n",
       "      <td>0.062267</td>\n",
       "      <td>0.325031</td>\n",
       "      <td>0.047634</td>\n",
       "      <td>0.044988</td>\n",
       "      <td>0.199408</td>\n",
       "      <td>0.029421</td>\n",
       "      <td>0.030199</td>\n",
       "      <td>0.027397</td>\n",
       "      <td>0.009496</td>\n",
       "      <td>0.159869</td>\n",
       "      <td>0.046700</td>\n",
       "      <td>AL</td>\n",
       "      <td>Albertvillecity</td>\n",
       "      <td>Albertvillecity</td>\n",
       "    </tr>\n",
       "    <tr>\n",
       "      <th>2</th>\n",
       "      <td>1</td>\n",
       "      <td>1132</td>\n",
       "      <td>0.008782</td>\n",
       "      <td>0.000000</td>\n",
       "      <td>0.003572</td>\n",
       "      <td>0.036916</td>\n",
       "      <td>0.500298</td>\n",
       "      <td>0.020988</td>\n",
       "      <td>0.019202</td>\n",
       "      <td>0.114617</td>\n",
       "      <td>0.036618</td>\n",
       "      <td>0.027389</td>\n",
       "      <td>0.039446</td>\n",
       "      <td>0.010569</td>\n",
       "      <td>0.149300</td>\n",
       "      <td>0.032301</td>\n",
       "      <td>AL</td>\n",
       "      <td>AlexanderCitycity</td>\n",
       "      <td>AlexanderCitycity</td>\n",
       "    </tr>\n",
       "    <tr>\n",
       "      <th>3</th>\n",
       "      <td>1</td>\n",
       "      <td>1852</td>\n",
       "      <td>0.012198</td>\n",
       "      <td>0.000000</td>\n",
       "      <td>0.001052</td>\n",
       "      <td>0.036593</td>\n",
       "      <td>0.196425</td>\n",
       "      <td>0.056151</td>\n",
       "      <td>0.039012</td>\n",
       "      <td>0.206204</td>\n",
       "      <td>0.039537</td>\n",
       "      <td>0.025762</td>\n",
       "      <td>0.033123</td>\n",
       "      <td>0.012093</td>\n",
       "      <td>0.241430</td>\n",
       "      <td>0.100421</td>\n",
       "      <td>AL</td>\n",
       "      <td>Annistoncity</td>\n",
       "      <td>Annistoncity</td>\n",
       "    </tr>\n",
       "    <tr>\n",
       "      <th>4</th>\n",
       "      <td>1</td>\n",
       "      <td>2956</td>\n",
       "      <td>0.028664</td>\n",
       "      <td>0.000000</td>\n",
       "      <td>0.000646</td>\n",
       "      <td>0.085733</td>\n",
       "      <td>0.274112</td>\n",
       "      <td>0.059522</td>\n",
       "      <td>0.019755</td>\n",
       "      <td>0.164364</td>\n",
       "      <td>0.034603</td>\n",
       "      <td>0.034861</td>\n",
       "      <td>0.031246</td>\n",
       "      <td>0.004261</td>\n",
       "      <td>0.194061</td>\n",
       "      <td>0.068173</td>\n",
       "      <td>AL</td>\n",
       "      <td>Athenscity</td>\n",
       "      <td>Athenscity</td>\n",
       "    </tr>\n",
       "  </tbody>\n",
       "</table>\n",
       "</div>"
      ],
      "text/plain": [
       "   state  community  Agriculture  Forestryandfisheries    Mining  \\\n",
       "0      1        820     0.003307              0.000000  0.007541   \n",
       "1      1        988     0.014788              0.000778  0.002024   \n",
       "2      1       1132     0.008782              0.000000  0.003572   \n",
       "3      1       1852     0.012198              0.000000  0.001052   \n",
       "4      1       2956     0.028664              0.000000  0.000646   \n",
       "\n",
       "   Construction  Manufacturing  \\\n",
       "0      0.069454       0.126604   \n",
       "1      0.062267       0.325031   \n",
       "2      0.036916       0.500298   \n",
       "3      0.036593       0.196425   \n",
       "4      0.085733       0.274112   \n",
       "\n",
       "   Transportation,communications,andotherpublicutilities  Wholesaletrade  \\\n",
       "0                                           0.107554            0.065617   \n",
       "1                                           0.047634            0.044988   \n",
       "2                                           0.020988            0.019202   \n",
       "3                                           0.056151            0.039012   \n",
       "4                                           0.059522            0.019755   \n",
       "\n",
       "   Retailtrade  Finance,insurance,andrealestate  Businessandrepairservices  \\\n",
       "0     0.215372                         0.084932                   0.048948   \n",
       "1     0.199408                         0.029421                   0.030199   \n",
       "2     0.114617                         0.036618                   0.027389   \n",
       "3     0.206204                         0.039537                   0.025762   \n",
       "4     0.164364                         0.034603                   0.034861   \n",
       "\n",
       "   Personalservices  Entertainmentandrecreationservices  \\\n",
       "0          0.016537                            0.006879   \n",
       "1          0.027397                            0.009496   \n",
       "2          0.039446                            0.010569   \n",
       "3          0.033123                            0.012093   \n",
       "4          0.031246                            0.004261   \n",
       "\n",
       "   Professionalandrelatedservices  Publicadministration  \\\n",
       "0                        0.219473              0.027781   \n",
       "1                        0.159869              0.046700   \n",
       "2                        0.149300              0.032301   \n",
       "3                        0.241430              0.100421   \n",
       "4                        0.194061              0.068173   \n",
       "\n",
       "  StatePostalAbbreviation      communityname               COMN  \n",
       "0                      AL      Alabastercity      Alabastercity  \n",
       "1                      AL    Albertvillecity    Albertvillecity  \n",
       "2                      AL  AlexanderCitycity  AlexanderCitycity  \n",
       "3                      AL       Annistoncity       Annistoncity  \n",
       "4                      AL         Athenscity         Athenscity  "
      ]
     },
     "execution_count": 274,
     "metadata": {},
     "output_type": "execute_result"
    }
   ],
   "source": [
    "df_new.head(5)"
   ]
  },
  {
   "cell_type": "markdown",
   "metadata": {},
   "source": [
    "Merge the new data set"
   ]
  },
  {
   "cell_type": "markdown",
   "metadata": {},
   "source": [
    "We use an inner join to merge the two data sets using communityname and state. The reason for this is because some states might have the same communityname. We end up losing around 400 rows, which is considerable but those values where not present in the 'new' data set."
   ]
  },
  {
   "cell_type": "code",
   "execution_count": 311,
   "metadata": {
    "collapsed": false,
    "scrolled": true
   },
   "outputs": [],
   "source": [
    "DF=df_full.merge(df_new,on=list(['communityname','state']),how='inner')"
   ]
  },
  {
   "cell_type": "code",
   "execution_count": null,
   "metadata": {
    "collapsed": true
   },
   "outputs": [],
   "source": [
    "#Divide outcome and input and replace missing values "
   ]
  },
  {
   "cell_type": "code",
   "execution_count": 302,
   "metadata": {
    "collapsed": false
   },
   "outputs": [],
   "source": [
    "outcomeY_new=DF['highCrime']\n",
    "inputX_new=DF.drop(['state','county','community_x','communityname','fold','StatePostalAbbreviation','COMN','ViolentCrimesPerPop','highCrime'],axis=1)\n",
    "\n",
    "#Impute missing values\n",
    "impMedian = Imputer(missing_values=np.nan, strategy='median', axis=0)\n",
    "inputX_new= pd.DataFrame(impMedian.fit_transform(inputX_new))"
   ]
  },
  {
   "cell_type": "code",
   "execution_count": null,
   "metadata": {
    "collapsed": true
   },
   "outputs": [],
   "source": [
    "#Random Forrest \"new\" data set"
   ]
  },
  {
   "cell_type": "code",
   "execution_count": 303,
   "metadata": {
    "collapsed": false
   },
   "outputs": [],
   "source": [
    "RFModelAcc_cv_new = cross_val_score(RFModel_full, inputX_new, outcomeY_new, cv=10, scoring='accuracy')  #Accuracy over a 10-fold validation set\n",
    "RFModelPre_cv_new = cross_val_score(RFModel_full, inputX_new, outcomeY_new, cv=10, scoring='precision')  #Precision over a 10-fold validation set\n",
    "RFModelRec_cv_new = cross_val_score(RFModel_full, inputX_new, outcomeY_new, cv=10, scoring='recall')  #Recall over a 10-fold validation set"
   ]
  },
  {
   "cell_type": "code",
   "execution_count": 322,
   "metadata": {
    "collapsed": false,
    "scrolled": true
   },
   "outputs": [
    {
     "name": "stdout",
     "output_type": "stream",
     "text": [
      " New Data Set: \n",
      "  Accuracy: 0.818470496894 \n",
      "  Precision: 0.875001302837 \n",
      "  Recall: 0.882300884956\n",
      "\n",
      " Full Data Set: \n",
      "  Accuracy: 0.816423798095 \n",
      "  Precision: 0.866949555561 \n",
      "  Recall: 0.841695238095\n"
     ]
    }
   ],
   "source": [
    "print(\" New Data Set:\",'\\n', \" Accuracy:\",RFModelAcc_cv_new.mean(), '\\n',\" Precision:\",RFModelPre_cv_new.mean(),'\\n',\" Recall:\",RFModelRec_cv_new.mean())\n",
    "print('\\n',\"Full Data Set:\",'\\n', \" Accuracy:\",RFModelAcc_cv_full.mean(), '\\n',\" Precision:\",RFModelPre_cv_full.mean(),'\\n',\" Recall:\",RFModelRec_cv_full.mean())"
   ]
  },
  {
   "cell_type": "code",
   "execution_count": null,
   "metadata": {
    "collapsed": true
   },
   "outputs": [],
   "source": [
    "#LinearSVM \"new\" data set"
   ]
  },
  {
   "cell_type": "code",
   "execution_count": 305,
   "metadata": {
    "collapsed": true
   },
   "outputs": [],
   "source": [
    "svmModelAcc_cv_new = cross_val_score(svmModel, inputX_new, outcomeY_new, cv=10, scoring='accuracy')  #Accuracy over a 10-fold validation set\n",
    "svmModelPre_cv_new = cross_val_score(svmModel, inputX_new, outcomeY_new, cv=10, scoring='precision')  #Precision over a 10-fold validation set\n",
    "svmModelRec_cv_new = cross_val_score(svmModel, inputX_new, outcomeY_new, cv=10, scoring='recall')  #Recall over a 10-fold validation set"
   ]
  },
  {
   "cell_type": "code",
   "execution_count": 321,
   "metadata": {
    "collapsed": false
   },
   "outputs": [
    {
     "name": "stdout",
     "output_type": "stream",
     "text": [
      " New Data Set: \n",
      "  Accuracy: 0.613684006211 \n",
      "  Precision: 0.695796878952 \n",
      "  Recall: 0.581415929204\n",
      "\n",
      " Full Data Set: \n",
      "  Accuracy: 0.757185929648 \n",
      "  Precision: 0.820500400199 \n",
      "  Recall: 0.8808\n"
     ]
    }
   ],
   "source": [
    "print(\" New Data Set:\",'\\n', \" Accuracy:\",svmModelAcc_cv_new.mean(), '\\n',\" Precision:\",svmModelPre_cv_new.mean(),'\\n',\" Recall:\",svmModelRec_cv_new.mean())\n",
    "print('\\n',\"Full Data Set:\",'\\n', \" Accuracy:\",svmAcc_cv.mean(), '\\n',\" Precision:\",svmPre_cv.mean(),'\\n',\" Recall:\",svmRec_cv.mean())"
   ]
  },
  {
   "cell_type": "code",
   "execution_count": null,
   "metadata": {
    "collapsed": true
   },
   "outputs": [],
   "source": [
    "#Classification Tree \"new\" data set"
   ]
  },
  {
   "cell_type": "code",
   "execution_count": 308,
   "metadata": {
    "collapsed": true
   },
   "outputs": [],
   "source": [
    "treeModelAcc_cv_new = cross_val_score(treeModel, inputX_new, outcomeY_new, cv=10, scoring='accuracy')  #Accuracy over a 10-fold validation set\n",
    "treeModelPre_cv_new = cross_val_score(treeModel, inputX_new, outcomeY_new, cv=10, scoring='precision')  #Precision over a 10-fold validation set\n",
    "treeModelRec_cv_new = cross_val_score(treeModel, inputX_new, outcomeY_new, cv=10, scoring='recall')  #Recall over a 10-fold validation set"
   ]
  },
  {
   "cell_type": "code",
   "execution_count": 324,
   "metadata": {
    "collapsed": false
   },
   "outputs": [
    {
     "name": "stdout",
     "output_type": "stream",
     "text": [
      " New Data Set: \n",
      "  Accuracy: 0.763552018634 \n",
      "  Precision: 0.836555679578 \n",
      "  Recall: 0.828318584071\n",
      "\n",
      " Full Data Set: \n",
      "  Accuracy: 0.712974874372 \n",
      "  Precision: 0.786051396449 \n",
      "  Recall: 0.7712\n"
     ]
    }
   ],
   "source": [
    "print(\" New Data Set:\",'\\n', \" Accuracy:\",treeModelAcc_cv_new.mean(), '\\n',\" Precision:\",treeModelPre_cv_new.mean(),'\\n',\" Recall:\",treeModelRec_cv_new.mean())\n",
    "print('\\n',\"Full Data Set:\",'\\n',\" Accuracy:\",treeAcc_cv_median.mean(), '\\n', \" Precision:\",treePre_cv_median.mean(),'\\n',\" Recall:\",treeRec_cv_median.mean())"
   ]
  }
 ],
 "metadata": {
  "kernelspec": {
   "display_name": "Python 3",
   "language": "python",
   "name": "python3"
  },
  "language_info": {
   "codemirror_mode": {
    "name": "ipython",
    "version": 3
   },
   "file_extension": ".py",
   "mimetype": "text/x-python",
   "name": "python",
   "nbconvert_exporter": "python",
   "pygments_lexer": "ipython3",
   "version": "3.6.0"
  }
 },
 "nbformat": 4,
 "nbformat_minor": 2
}
